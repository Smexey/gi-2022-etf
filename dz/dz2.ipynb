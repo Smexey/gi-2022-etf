{
 "cells": [
  {
   "cell_type": "code",
   "execution_count": 1,
   "metadata": {},
   "outputs": [
    {
     "name": "stdout",
     "output_type": "stream",
     "text": [
      "C0HVYACXX120402:7:1207:5722:57044\t1187\t21\t9483249\t27\t76M\t=\t9483382\t209\tTTTTCAAACAGTATCTATGCCTGCCAAATGTGAACATATAAAAAAAAACCAGAATGTGCCATTCTGATTTAAACTG\t==<>@?@@>@D?>@C?>8JA5?>CC>?@???BB;H-:4A?D=DB8BDE?GBJCD@B8??E<A>CDJB@B>AA@@@C\tXA:Z:GL000217.1,-110754,76M,1;\tBD:Z:NNNNNNNNNNNNNNNNNNNNNNNNNNNNNNNNNNNNNNNNNNNNNNNNNNNNNNNNNNNNNNNNNNNNNNNNNNNN\tMD:Z:76\tRG:Z:1\tBI:Z:NNNNNNNNNNNNNNNNNNNNNNNNNNNNNNNNNNNNNNNNNNNNNNNNNNNNNNNNNNNNNNNNNNNNNNNNNNNN\tNM:i:0\tMQ:i:27\tAS:i:76\tXS:i:71\n",
      "flag:1187\n"
     ]
    }
   ],
   "source": [
    "import pysam\n",
    "\n",
    "\n",
    "f = pysam.AlignmentFile(\"../data/merged-tumor.bam\",\"rb\")\n",
    "for line in f:\n",
    "    print(line.to_string())\n",
    "    print(f\"flag:{line.flag}\")\n",
    "    break"
   ]
  },
  {
   "cell_type": "markdown",
   "metadata": {},
   "source": [
    "Summary:\n",
    "* read paired (0x1)\n",
    "* readread mapped in proper pair (0x2)\n",
    "* readmate reverse strand (0x20)\n",
    "* readsecond in pair (0x80)\n",
    "* readread is PCR or optical duplicate (0x400)"
   ]
  },
  {
   "cell_type": "code",
   "execution_count": 2,
   "metadata": {},
   "outputs": [
    {
     "name": "stdout",
     "output_type": "stream",
     "text": [
      "Unmapped lines: 17765\n",
      "Zero quality lines: 126628\n",
      "Avg qual: 55.91380148328261\n",
      "Avg qual no zeros: 58.446986762075134\n"
     ]
    }
   ],
   "source": [
    "cnters = {\n",
    "    \"lines\":0,\n",
    "    \"unmapped\": 0,\n",
    "    \"quality0\": 0,\n",
    "}\n",
    "qualSum = 0\n",
    "UNMAPPED_READ_FLAG = 4\n",
    "for line in f.fetch(until_eof=True):\n",
    "    if(line.flag&UNMAPPED_READ_FLAG) != 0:\n",
    "        cnters[\"unmapped\"]+=1\n",
    "\n",
    "    if(line.mapping_quality == 0):\n",
    "        cnters[\"quality0\"]+=1\n",
    "\n",
    "    qualSum+=line.mapping_quality\n",
    "    cnters[\"lines\"]+=1\n",
    "    \n",
    "        \n",
    "print(f\"Unmapped lines: {cnters['unmapped']}\")\n",
    "print(f\"Zero quality lines: {cnters['quality0']}\")     \n",
    "print(f\"Avg qual: {qualSum/cnters['lines']}\") \n",
    "print(f\"Avg qual no zeros: {qualSum/(cnters['lines']-cnters['quality0'])}\") \n",
    "     "
   ]
  }
 ],
 "metadata": {
  "interpreter": {
   "hash": "d882c6aa8e0f08324f1adf9d2939f7dd9616788deef605d49949e5c5723a918d"
  },
  "kernelspec": {
   "display_name": "Python 3.9.7 ('gi')",
   "language": "python",
   "name": "python3"
  },
  "language_info": {
   "codemirror_mode": {
    "name": "ipython",
    "version": 3
   },
   "file_extension": ".py",
   "mimetype": "text/x-python",
   "name": "python",
   "nbconvert_exporter": "python",
   "pygments_lexer": "ipython3",
   "version": "3.9.7"
  },
  "orig_nbformat": 4
 },
 "nbformat": 4,
 "nbformat_minor": 2
}
